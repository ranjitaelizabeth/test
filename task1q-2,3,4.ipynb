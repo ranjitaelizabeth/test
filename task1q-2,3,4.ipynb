{
 "cells": [
  {
   "cell_type": "raw",
   "id": "5f8c114b-a297-4e87-b099-1679ddcb594a",
   "metadata": {},
   "source": [
    "pip install psycopg2\n",
    "pip install geop"
   ]
  },
  {
   "cell_type": "code",
   "execution_count": 74,
   "id": "1bf79be5-6d5a-4d26-8170-3a00d70efe73",
   "metadata": {},
   "outputs": [],
   "source": [
    "import pandas as pd\n",
    "import psycopg2\n",
    "from geopy.distance import geodesic\n"
   ]
  },
  {
   "cell_type": "code",
   "execution_count": 75,
   "id": "bd92e24d-bb39-4864-bb61-f500d50ed26e",
   "metadata": {},
   "outputs": [],
   "source": [
    "\n",
    "coordinates = pd.read_csv('corrected_latitude_longitude_details.csv')\n",
    "terrain = pd.read_csv('terrain_classification.csv')\n"
   ]
  },
  {
   "cell_type": "code",
   "execution_count": 76,
   "id": "1190b86a-be72-4559-8664-9f070bf53069",
   "metadata": {},
   "outputs": [],
   "source": [
    "coordinates['km'] = km_distances\n",
    "terrain['km']=terrain['distance (in km)']\n",
    "merged_data = pd.merge_asof(coordinates.sort_values('km'), terrain.sort_values('km'), on='km')\n"
   ]
  },
  {
   "cell_type": "code",
   "execution_count": 77,
   "id": "6914d738-6a06-470c-a9a1-c40a4eed7bb5",
   "metadata": {},
   "outputs": [],
   "source": [
    "conn = psycopg2.connect(\"dbname=ranjitaelizabeth user=ranjitaelizabeth password= host=localhost port=5432\")\n",
    "cur = conn.cursor()\n"
   ]
  },
  {
   "cell_type": "code",
   "execution_count": 78,
   "id": "4c977bfa-faed-4a81-9ea9-fa45d9067e7e",
   "metadata": {},
   "outputs": [],
   "source": [
    "cur.execute(\"\"\"\n",
    "CREATE TABLE IF NOT EXISTS route (\n",
    "    id SERIAL PRIMARY KEY,\n",
    "    latitude DOUBLE PRECISION,\n",
    "    longitude DOUBLE PRECISION,\n",
    "    km DOUBLE PRECISION,\n",
    "    terrain VARCHAR(255)\n",
    ")\n",
    "\"\"\")\n"
   ]
  },
  {
   "cell_type": "code",
   "execution_count": 79,
   "id": "af4876fa-75e8-41fe-99cf-7e19b14be7eb",
   "metadata": {},
   "outputs": [],
   "source": [
    "for index, row in merged_data.iterrows():\n",
    "    cur.execute(\"\"\"\n",
    "    INSERT INTO route (latitude, longitude, km, terrain)\n",
    "    VALUES (%s, %s, %s, %s)\n",
    "    \"\"\", (row['latitude'], row['longitude'], row['km'], row['terrain']))\n"
   ]
  },
  {
   "cell_type": "code",
   "execution_count": 80,
   "id": "91d24a4b-51ce-4bcd-ade9-f8413953f1f0",
   "metadata": {},
   "outputs": [],
   "source": [
    "conn.commit()\n",
    "cur.close()\n",
    "conn.close()"
   ]
  },
  {
   "cell_type": "code",
   "execution_count": null,
   "id": "2a3656fd-5bef-43c3-ab48-ab97317f1115",
   "metadata": {},
   "outputs": [],
   "source": []
  },
  {
   "cell_type": "code",
   "execution_count": 81,
   "id": "80586921-a49b-40db-8c60-0d0438bfa300",
   "metadata": {},
   "outputs": [],
   "source": [
    "conn = psycopg2.connect(\"dbname=ranjitaelizabeth user=ranjitaelizabeth password= host=localhost port=5432\")\n",
    "cur = conn.cursor()\n"
   ]
  },
  {
   "cell_type": "code",
   "execution_count": 82,
   "id": "ccf7bb91-e1d1-450b-85d3-b0441d6dada4",
   "metadata": {},
   "outputs": [],
   "source": [
    "cur.execute(\"\"\"\n",
    "SELECT latitude, longitude, km, terrain \n",
    "FROM route \n",
    "WHERE terrain LIKE '%road%' AND terrain NOT LIKE '%civil station%'\n",
    "\"\"\")\n",
    "results = cur.fetchall()\n"
   ]
  },
  {
   "cell_type": "code",
   "execution_count": 83,
   "id": "e4894125-870e-4200-ba6e-a2b746f5b3a2",
   "metadata": {},
   "outputs": [
    {
     "data": {
      "text/html": [
       "<div>\n",
       "<style scoped>\n",
       "    .dataframe tbody tr th:only-of-type {\n",
       "        vertical-align: middle;\n",
       "    }\n",
       "\n",
       "    .dataframe tbody tr th {\n",
       "        vertical-align: top;\n",
       "    }\n",
       "\n",
       "    .dataframe thead th {\n",
       "        text-align: right;\n",
       "    }\n",
       "</style>\n",
       "<table border=\"1\" class=\"dataframe\">\n",
       "  <thead>\n",
       "    <tr style=\"text-align: right;\">\n",
       "      <th></th>\n",
       "      <th>latitude</th>\n",
       "      <th>longitude</th>\n",
       "      <th>km</th>\n",
       "      <th>terrain</th>\n",
       "    </tr>\n",
       "  </thead>\n",
       "  <tbody>\n",
       "    <tr>\n",
       "      <th>0</th>\n",
       "      <td>10.004526</td>\n",
       "      <td>76.375986</td>\n",
       "      <td>0.000000</td>\n",
       "      <td>boundary wall,road</td>\n",
       "    </tr>\n",
       "    <tr>\n",
       "      <th>1</th>\n",
       "      <td>10.004385</td>\n",
       "      <td>76.375502</td>\n",
       "      <td>0.055318</td>\n",
       "      <td>boundary wall,road</td>\n",
       "    </tr>\n",
       "    <tr>\n",
       "      <th>2</th>\n",
       "      <td>10.004391</td>\n",
       "      <td>76.375115</td>\n",
       "      <td>0.097699</td>\n",
       "      <td>boundary wall,road</td>\n",
       "    </tr>\n",
       "    <tr>\n",
       "      <th>3</th>\n",
       "      <td>10.004453</td>\n",
       "      <td>76.374769</td>\n",
       "      <td>0.136255</td>\n",
       "      <td>boundary wall,road</td>\n",
       "    </tr>\n",
       "    <tr>\n",
       "      <th>4</th>\n",
       "      <td>10.004532</td>\n",
       "      <td>76.374565</td>\n",
       "      <td>0.160288</td>\n",
       "      <td>boundary wall,road</td>\n",
       "    </tr>\n",
       "    <tr>\n",
       "      <th>...</th>\n",
       "      <td>...</td>\n",
       "      <td>...</td>\n",
       "      <td>...</td>\n",
       "      <td>...</td>\n",
       "    </tr>\n",
       "    <tr>\n",
       "      <th>151</th>\n",
       "      <td>10.006775</td>\n",
       "      <td>76.372777</td>\n",
       "      <td>1.032689</td>\n",
       "      <td>road</td>\n",
       "    </tr>\n",
       "    <tr>\n",
       "      <th>152</th>\n",
       "      <td>10.006695</td>\n",
       "      <td>76.373054</td>\n",
       "      <td>1.064411</td>\n",
       "      <td>road</td>\n",
       "    </tr>\n",
       "    <tr>\n",
       "      <th>153</th>\n",
       "      <td>10.006753</td>\n",
       "      <td>76.373492</td>\n",
       "      <td>1.112800</td>\n",
       "      <td>road</td>\n",
       "    </tr>\n",
       "    <tr>\n",
       "      <th>154</th>\n",
       "      <td>10.006858</td>\n",
       "      <td>76.373783</td>\n",
       "      <td>1.146794</td>\n",
       "      <td>road</td>\n",
       "    </tr>\n",
       "    <tr>\n",
       "      <th>155</th>\n",
       "      <td>10.006894</td>\n",
       "      <td>76.373876</td>\n",
       "      <td>1.157699</td>\n",
       "      <td>road</td>\n",
       "    </tr>\n",
       "  </tbody>\n",
       "</table>\n",
       "<p>156 rows × 4 columns</p>\n",
       "</div>"
      ],
      "text/plain": [
       "      latitude  longitude        km             terrain\n",
       "0    10.004526  76.375986  0.000000  boundary wall,road\n",
       "1    10.004385  76.375502  0.055318  boundary wall,road\n",
       "2    10.004391  76.375115  0.097699  boundary wall,road\n",
       "3    10.004453  76.374769  0.136255  boundary wall,road\n",
       "4    10.004532  76.374565  0.160288  boundary wall,road\n",
       "..         ...        ...       ...                 ...\n",
       "151  10.006775  76.372777  1.032689                road\n",
       "152  10.006695  76.373054  1.064411                road\n",
       "153  10.006753  76.373492  1.112800                road\n",
       "154  10.006858  76.373783  1.146794                road\n",
       "155  10.006894  76.373876  1.157699                road\n",
       "\n",
       "[156 rows x 4 columns]"
      ]
     },
     "execution_count": 83,
     "metadata": {},
     "output_type": "execute_result"
    }
   ],
   "source": [
    "df = pd.DataFrame(results, columns=['latitude', 'longitude', 'km', 'terrain'])\n",
    "df.to_csv('road_without_civil_station.csv', index=False)\n",
    "df\n"
   ]
  },
  {
   "cell_type": "code",
   "execution_count": 84,
   "id": "d281faed-c96d-4090-b75c-88e62c09f35d",
   "metadata": {},
   "outputs": [],
   "source": [
    "cur.close()\n",
    "conn.close()"
   ]
  },
  {
   "cell_type": "code",
   "execution_count": null,
   "id": "5b23f070-4f65-4b06-964b-aabac6df7bdf",
   "metadata": {},
   "outputs": [],
   "source": []
  },
  {
   "cell_type": "code",
   "execution_count": 85,
   "id": "7628c796-519f-4bd4-b439-ee29b6a757b3",
   "metadata": {},
   "outputs": [],
   "source": [
    "conn = psycopg2.connect(\"dbname=ranjitaelizabeth user=ranjitaelizabeth password= host=localhost port=5432\")\n",
    "cur = conn.cursor()"
   ]
  },
  {
   "cell_type": "code",
   "execution_count": 86,
   "id": "3c69f3d8-6673-410c-96d7-8bc848bf89da",
   "metadata": {},
   "outputs": [],
   "source": [
    "def extract_boundary_points(km_value):\n",
    "    cur.execute(\"\"\"\n",
    "    SELECT latitude, longitude, km\n",
    "    FROM route\n",
    "    WHERE km >= %s\n",
    "    ORDER BY km ASC\n",
    "    LIMIT 1\n",
    "    \"\"\", (km_value,))\n",
    "    start_point = cur.fetchone()\n",
    "\n",
    "    cur.execute(\"\"\"\n",
    "    SELECT latitude, longitude, km\n",
    "    FROM route\n",
    "    WHERE km <= %s\n",
    "    ORDER BY km DESC\n",
    "    LIMIT 1\n",
    "    \"\"\", (km_value,))\n",
    "    end_point = cur.fetchone()\n",
    "\n",
    "    return start_point, end_point\n"
   ]
  },
  {
   "cell_type": "code",
   "execution_count": 87,
   "id": "199f38a8-b424-4949-8681-6ea3fe872c14",
   "metadata": {},
   "outputs": [
    {
     "name": "stdout",
     "output_type": "stream",
     "text": [
      "Start Point: None\n",
      "End Point: (10.006894, 76.373876, 1.1576991689665062)\n"
     ]
    }
   ],
   "source": [
    "km_value = 10  # Example KM value\n",
    "start, end = extract_boundary_points(km_value)\n",
    "print(f\"Start Point: {start}\")\n",
    "print(f\"End Point: {end}\")\n"
   ]
  },
  {
   "cell_type": "code",
   "execution_count": 88,
   "id": "b7e95bd1-4253-443f-9f77-db583347a1a1",
   "metadata": {},
   "outputs": [],
   "source": [
    "cur.close()\n",
    "conn.close()"
   ]
  },
  {
   "cell_type": "code",
   "execution_count": null,
   "id": "0412fb7a-10cb-4838-a00e-e74a46a2b8d0",
   "metadata": {},
   "outputs": [],
   "source": []
  }
 ],
 "metadata": {
  "kernelspec": {
   "display_name": "Python 3 (ipykernel)",
   "language": "python",
   "name": "python3"
  },
  "language_info": {
   "codemirror_mode": {
    "name": "ipython",
    "version": 3
   },
   "file_extension": ".py",
   "mimetype": "text/x-python",
   "name": "python",
   "nbconvert_exporter": "python",
   "pygments_lexer": "ipython3",
   "version": "3.11.7"
  }
 },
 "nbformat": 4,
 "nbformat_minor": 5
}
